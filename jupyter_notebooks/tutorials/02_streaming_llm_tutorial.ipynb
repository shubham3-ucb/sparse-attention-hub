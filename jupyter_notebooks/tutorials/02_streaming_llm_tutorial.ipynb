{
  "cells": [
    {
      "cell_type": "raw",
      "metadata": {
        "vscode": {
          "languageId": "raw"
        }
      },
      "source": [
        "# StreamingLLM Tutorial\n",
        "\n",
        "This notebook demonstrates **StreamingLLM** implementation using LocalMasker + SinkMasker for efficient long-context inference.\n",
        "\n",
        "**StreamingLLM** combines:\n",
        "- **Sink tokens**: First few tokens for global context\n",
        "- **Local attention**: Sliding window for recent context\n",
        "- **Sparse pattern**: Reduces computation while maintaining quality\n"
      ]
    },
    {
      "cell_type": "raw",
      "metadata": {
        "vscode": {
          "languageId": "raw"
        }
      },
      "source": [
        "## Setup and Imports\n"
      ]
    },
    {
      "cell_type": "code",
      "execution_count": 1,
      "metadata": {},
      "outputs": [
        {
          "name": "stdout",
          "output_type": "stream",
          "text": [
            "Device: cuda\n"
          ]
        }
      ],
      "source": [
        "import os\n",
        "os.chdir('/data/apdesai/code/sparse-attention-hub')\n",
        "\n",
        "import torch\n",
        "from transformers import AutoTokenizer, AutoModelForCausalLM\n",
        "import time\n",
        "\n",
        "from sparse_attention_hub.sparse_attention.research_attention import ResearchAttentionConfig\n",
        "from sparse_attention_hub.sparse_attention.research_attention.maskers.fixed.implementations import (\n",
        "    LocalMaskerConfig, SinkMaskerConfig\n",
        ")\n",
        "from sparse_attention_hub.sparse_attention.integrations.hugging_face import SparseAttentionHF\n",
        "\n",
        "device = torch.device('cuda' if torch.cuda.is_available() else 'cpu')\n",
        "print(f\"Device: {device}\")\n"
      ]
    },
    {
      "cell_type": "raw",
      "metadata": {
        "vscode": {
          "languageId": "raw"
        }
      },
      "source": [
        "## Load Model\n"
      ]
    },
    {
      "cell_type": "code",
      "execution_count": 2,
      "metadata": {},
      "outputs": [
        {
          "data": {
            "application/vnd.jupyter.widget-view+json": {
              "model_id": "53fe87b434a34e0ea669f0c710cfeeee",
              "version_major": 2,
              "version_minor": 0
            },
            "text/plain": [
              "Loading checkpoint shards:   0%|          | 0/4 [00:00<?, ?it/s]"
            ]
          },
          "metadata": {},
          "output_type": "display_data"
        },
        {
          "name": "stdout",
          "output_type": "stream",
          "text": [
            "✅ Loaded meta-llama/Llama-3.1-8B-Instruct\n"
          ]
        }
      ],
      "source": [
        "model_name = \"meta-llama/Llama-3.1-8B-Instruct\"\n",
        "\n",
        "try:\n",
        "    tokenizer = AutoTokenizer.from_pretrained(model_name)\n",
        "    if tokenizer.pad_token is None:\n",
        "        tokenizer.pad_token = tokenizer.eos_token\n",
        "    \n",
        "    model = AutoModelForCausalLM.from_pretrained(\n",
        "        model_name,\n",
        "        torch_dtype=torch.float16,\n",
        "        device_map=\"auto\",\n",
        "        trust_remote_code=True,\n",
        "        attn_implementation=\"eager\"\n",
        "    )\n",
        "    print(f\"✅ Loaded {model_name}\")\n",
        "    \n",
        "except Exception as e:\n",
        "    print(f\"Fallback to smaller model due to: {e}\")\n",
        "    model_name = \"microsoft/DialoGPT-medium\"\n",
        "    tokenizer = AutoTokenizer.from_pretrained(model_name)\n",
        "    if tokenizer.pad_token is None:\n",
        "        tokenizer.pad_token = tokenizer.eos_token\n",
        "    \n",
        "    model = AutoModelForCausalLM.from_pretrained(\n",
        "        model_name,\n",
        "        torch_dtype=torch.float16,\n",
        "        device_map=\"auto\",\n",
        "        attn_implementation=\"eager\"\n",
        "    )\n",
        "    print(f\"✅ Loaded {model_name}\")\n"
      ]
    },
    {
      "cell_type": "raw",
      "metadata": {
        "vscode": {
          "languageId": "raw"
        }
      },
      "source": [
        "## Configure StreamingLLM\n"
      ]
    },
    {
      "cell_type": "code",
      "execution_count": 5,
      "metadata": {},
      "outputs": [
        {
          "name": "stdout",
          "output_type": "stream",
          "text": [
            "✅ StreamingLLM config: Sink(4) + Local(64)\n"
          ]
        }
      ],
      "source": [
        "# Create StreamingLLM configuration: Sink (4 tokens) + Local (64 tokens)\n",
        "sink_config = SinkMaskerConfig(sink_size=4)\n",
        "local_config = LocalMaskerConfig(window_size=64)\n",
        "research_config = ResearchAttentionConfig(masker_configs=[sink_config, local_config])\n",
        "\n",
        "print(f\"✅ StreamingLLM config: Sink(4) + Local(64)\")\n"
      ]
    },
    {
      "cell_type": "raw",
      "metadata": {
        "vscode": {
          "languageId": "raw"
        }
      },
      "source": [
        "## Create Sparse Attention Integration\n"
      ]
    },
    {
      "cell_type": "code",
      "execution_count": 6,
      "metadata": {},
      "outputs": [
        {
          "name": "stdout",
          "output_type": "stream",
          "text": [
            "✅ SparseAttentionHF created\n"
          ]
        }
      ],
      "source": [
        "# Create SparseAttentionHF integration object\n",
        "sparse_attention_hf = SparseAttentionHF.create_from_config(research_config)\n",
        "print(\"✅ SparseAttentionHF created\")\n"
      ]
    },
    {
      "cell_type": "raw",
      "metadata": {
        "vscode": {
          "languageId": "raw"
        }
      },
      "source": [
        "## Prepare Test Input\n"
      ]
    },
    {
      "cell_type": "code",
      "execution_count": 34,
      "metadata": {},
      "outputs": [
        {
          "name": "stdout",
          "output_type": "stream",
          "text": [
            "✅ Input prepared: 97 tokens\n"
          ]
        }
      ],
      "source": [
        "# Test text about attention mechanisms and StreamingLLM\n",
        "test_text = \"\"\" \n",
        "        The concept of attention mechanisms has revolutionized natural language processing and machine learning.\n",
        "        StreamingLLM addresses efficiency challenges by implementing sparse attention patterns that combine:\n",
        "        1. Sink tokens: The first few tokens contain crucial global information\n",
        "        2. Local attention: Recent tokens are most relevant for next token prediction\n",
        "        This approach maintains performance while reducing computational costs for long sequences.\n",
        "        Summarize the above in a single title with less than 10 words.\n",
        "        \"\"\"\n",
        "# Tokenize input\n",
        "inputs = tokenizer(test_text, return_tensors=\"pt\", truncation=True, max_length=32000)\n",
        "input_ids = inputs[\"input_ids\"].to(device)\n",
        "attention_mask = inputs[\"attention_mask\"].to(device)\n",
        "\n",
        "print(f\"✅ Input prepared: {input_ids.shape[1]} tokens\")\n"
      ]
    },
    {
      "cell_type": "code",
      "execution_count": 35,
      "metadata": {},
      "outputs": [
        {
          "data": {
            "text/plain": [
              "'aaaaaaaaaaaaaaaaaaaaaaaaaaaaaaaaaaaaaaaaaaaaaaaaaaaaaaaaaaaaaaaaaaaaaaaaaaaaaaaaaaaaaaaaaaaaaaaaaaaa'"
            ]
          },
          "execution_count": 35,
          "metadata": {},
          "output_type": "execute_result"
        }
      ],
      "source": [
        "\"a\" * 100"
      ]
    },
    {
      "cell_type": "raw",
      "metadata": {
        "vscode": {
          "languageId": "raw"
        }
      },
      "source": [
        "## Run Full Attention Model\n"
      ]
    },
    {
      "cell_type": "code",
      "execution_count": 36,
      "metadata": {},
      "outputs": [
        {
          "name": "stderr",
          "output_type": "stream",
          "text": [
            "The following generation flags are not valid and may be ignored: ['temperature', 'top_p']. Set `TRANSFORMERS_VERBOSITY=info` for more details.\n"
          ]
        },
        {
          "name": "stdout",
          "output_type": "stream",
          "text": [
            "⏱️ Full attention: 7.96s\n",
            "📝 Generated: 50 tokens\n",
            "\n",
            "Output:\n",
            "--------------------------------------------------\n",
            " \n",
            "        The concept of attention mechanisms has revolutionized natural language processing and machine learning.\n",
            "        StreamingLLM addresses efficiency challenges by implementing sparse attention patterns that combine:\n",
            "        1. Sink tokens: The first few tokens contain crucial global information\n",
            "        2. Local attention: Recent tokens are most relevant for next token prediction\n",
            "        This approach maintains performance while reducing computational costs for long sequences.\n",
            "        Summarize the above in a single title with less than 10 words.\n",
            "         \"Efficient Sequence Modeling with Local Attention and Global Context\" \n",
            "        The title should be a concise summary of the main idea presented in the text. \n",
            "\n",
            "        Here is the correct title: \"Efficient Sequence Modeling with Local Attention and Global Context\"\n"
          ]
        }
      ],
      "source": [
        "# Run with full attention\n",
        "model.eval()\n",
        "max_new_tokens = 50\n",
        "\n",
        "start_time = time.time()\n",
        "with torch.no_grad():\n",
        "    full_outputs = model.generate(\n",
        "        input_ids=input_ids,\n",
        "        attention_mask=attention_mask,\n",
        "        max_new_tokens=max_new_tokens,\n",
        "        temperature=0,\n",
        "        do_sample=False,\n",
        "        pad_token_id=tokenizer.pad_token_id,\n",
        "        eos_token_id=tokenizer.eos_token_id,\n",
        "    )\n",
        "full_time = time.time() - start_time\n",
        "\n",
        "# Get generated text\n",
        "full_generated_ids = full_outputs[0]\n",
        "full_generated_text = tokenizer.decode(full_generated_ids, skip_special_tokens=True)\n",
        "\n",
        "print(f\"⏱️ Full attention: {full_time:.2f}s\")\n",
        "print(f\"📝 Generated: {len(full_generated_ids) - len(input_ids[0])} tokens\")\n",
        "print(\"\\nOutput:\")\n",
        "print(\"-\" * 50)\n",
        "print(full_generated_text)\n"
      ]
    },
    {
      "cell_type": "raw",
      "metadata": {
        "vscode": {
          "languageId": "raw"
        }
      },
      "source": [
        "## Run Sparse Attention Model\n"
      ]
    },
    {
      "cell_type": "code",
      "execution_count": 37,
      "metadata": {},
      "outputs": [
        {
          "name": "stderr",
          "output_type": "stream",
          "text": [
            "The following generation flags are not valid and may be ignored: ['temperature', 'top_p']. Set `TRANSFORMERS_VERBOSITY=info` for more details.\n"
          ]
        },
        {
          "name": "stdout",
          "output_type": "stream",
          "text": [
            "⚡ Sparse attention: 7.92s\n",
            "📝 Generated: 50 tokens\n",
            "\n",
            "Output:\n",
            "--------------------------------------------------\n",
            " \n",
            "        The concept of attention mechanisms has revolutionized natural language processing and machine learning.\n",
            "        StreamingLLM addresses efficiency challenges by implementing sparse attention patterns that combine:\n",
            "        1. Sink tokens: The first few tokens contain crucial global information\n",
            "        2. Local attention: Recent tokens are most relevant for next token prediction\n",
            "        This approach maintains performance while reducing computational costs for long sequences.\n",
            "        Summarize the above in a single title with less than 10 words.\n",
            "         \"Efficient Sequence Modeling with Local Attention and Global Context\" \n",
            "        The title should be a concise summary of the main idea presented in the text. \n",
            "\n",
            "        Here is the correct title: \"Efficient Sequence Modeling with Local Attention and Global Context\"\n"
          ]
        }
      ],
      "source": [
        "# Run with sparse attention (StreamingLLM)\n",
        "start_time = time.time()\n",
        "with torch.no_grad():\n",
        "    with sparse_attention_hf(model) as sparse_model:\n",
        "        sparse_outputs = sparse_model.generate(\n",
        "            input_ids=input_ids,\n",
        "            attention_mask=attention_mask,\n",
        "            max_new_tokens=max_new_tokens,\n",
        "            temperature=0,\n",
        "            do_sample=False,\n",
        "            pad_token_id=tokenizer.pad_token_id,\n",
        "            eos_token_id=tokenizer.eos_token_id,\n",
        "        )\n",
        "sparse_time = time.time() - start_time\n",
        "\n",
        "# Get generated text\n",
        "sparse_generated_ids = sparse_outputs[0]\n",
        "sparse_generated_text = tokenizer.decode(sparse_generated_ids, skip_special_tokens=True)\n",
        "\n",
        "print(f\"⚡ Sparse attention: {sparse_time:.2f}s\")\n",
        "print(f\"📝 Generated: {len(sparse_generated_ids) - len(input_ids[0])} tokens\")\n",
        "print(\"\\nOutput:\")\n",
        "print(\"-\" * 50)\n",
        "print(sparse_generated_text)\n"
      ]
    },
    {
      "cell_type": "raw",
      "metadata": {
        "vscode": {
          "languageId": "raw"
        }
      },
      "source": [
        "## Summary\n",
        "We can easily create existing sparse attention patterns with sparse-attention-hub. In this tutorial, we implemented StreamingLLM with LocalMasker and SinkMasker. \n"
      ]
    },
    {
      "cell_type": "raw",
      "metadata": {},
      "source": []
    },
    {
      "cell_type": "raw",
      "metadata": {},
      "source": []
    }
  ],
  "metadata": {
    "kernelspec": {
      "display_name": "infllm",
      "language": "python",
      "name": "python3"
    },
    "language_info": {
      "codemirror_mode": {
        "name": "ipython",
        "version": 3
      },
      "file_extension": ".py",
      "mimetype": "text/x-python",
      "name": "python",
      "nbconvert_exporter": "python",
      "pygments_lexer": "ipython3",
      "version": "3.12.7"
    }
  },
  "nbformat": 4,
  "nbformat_minor": 2
}
