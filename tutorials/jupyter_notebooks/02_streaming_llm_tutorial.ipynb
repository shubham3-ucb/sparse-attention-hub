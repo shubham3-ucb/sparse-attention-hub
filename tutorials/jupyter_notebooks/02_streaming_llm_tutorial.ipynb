{
  "cells": [
    {
      "cell_type": "raw",
      "metadata": {
        "vscode": {
          "languageId": "raw"
        }
      },
      "source": [
        "# StreamingLLM Tutorial\n",
        "\n",
        "This notebook demonstrates **StreamingLLM** implementation using LocalMasker + SinkMasker for efficient long-context inference.\n",
        "\n",
        "**StreamingLLM** combines:\n",
        "- **Sink tokens**: First few tokens for global context\n",
        "- **Local attention**: Sliding window for recent context\n",
        "- **Sparse pattern**: Reduces computation while maintaining quality\n"
      ]
    },
    {
      "cell_type": "raw",
      "metadata": {
        "vscode": {
          "languageId": "raw"
        }
      },
      "source": [
        "## Setup and Imports\n"
      ]
    },
    {
      "cell_type": "code",
      "execution_count": 1,
      "metadata": {},
      "outputs": [
        {
          "name": "stdout",
          "output_type": "stream",
          "text": [
            "Device: cuda\n"
          ]
        }
      ],
      "source": [
        "import os\n",
        "os.chdir('/data/apdesai/code/sparse-attention-hub')\n",
        "\n",
        "import torch\n",
        "from transformers import AutoTokenizer, AutoModelForCausalLM\n",
        "import time\n",
        "\n",
        "from sparse_attention_hub.sparse_attention.research_attention import ResearchAttentionConfig\n",
        "from sparse_attention_hub.sparse_attention.research_attention.maskers.fixed.implementations import (\n",
        "    LocalMaskerConfig, SinkMaskerConfig\n",
        ")\n",
        "from sparse_attention_hub.adapters.huggingface import ModelAdapterHF\n",
        "\n",
        "\n",
        "\n",
        "\n",
        "device = torch.device('cuda' if torch.cuda.is_available() else 'cpu')\n",
        "print(f\"Device: {device}\")\n"
      ]
    },
    {
      "cell_type": "code",
      "execution_count": 2,
      "metadata": {},
      "outputs": [
        {
          "name": "stdout",
          "output_type": "stream",
          "text": [
            "✅ StreamingLLM config: Sink(4) + Local(64)\n"
          ]
        }
      ],
      "source": [
        "# Create StreamingLLM configuration: Sink (4 tokens) + Local (64 tokens)\n",
        "sink_config = SinkMaskerConfig(sink_size=4)\n",
        "local_config = LocalMaskerConfig(window_size=64)\n",
        "research_config = ResearchAttentionConfig(masker_configs=[sink_config, local_config])\n",
        "\n",
        "print(f\"✅ StreamingLLM config: Sink(4) + Local(64)\")\n"
      ]
    },
    {
      "cell_type": "raw",
      "metadata": {
        "vscode": {
          "languageId": "raw"
        }
      },
      "source": [
        "## Create Sparse Attention Integration\n"
      ]
    },
    {
      "cell_type": "code",
      "execution_count": null,
      "metadata": {},
      "outputs": [
        {
          "ename": "",
          "evalue": "",
          "output_type": "error",
          "traceback": [
            "\u001b[1;31mThe Kernel crashed while executing code in the current cell or a previous cell. \n",
            "\u001b[1;31mPlease review the code in the cell(s) to identify a possible cause of the failure. \n",
            "\u001b[1;31mClick <a href='https://aka.ms/vscodeJupyterKernelCrash'>here</a> for more info. \n",
            "\u001b[1;31mView Jupyter <a href='command:jupyter.viewOutput'>log</a> for further details."
          ]
        }
      ],
      "source": [
        "adapter = ModelAdapterHF(model_name=\"meta-llama/Llama-3.1-8B-Instruct\",\n",
        "                         sparse_attention_config=research_config,\n",
        "                         model_kwargs={\"torch_dtype\": torch.bfloat16, \"device_map\": \"cuda\"},\n",
        "                         device=\"cuda\")\n"
      ]
    },
    {
      "cell_type": "raw",
      "metadata": {
        "vscode": {
          "languageId": "raw"
        }
      },
      "source": [
        "adapter"
      ]
    },
    {
      "cell_type": "code",
      "execution_count": null,
      "metadata": {},
      "outputs": [],
      "source": [
        "# Test text about attention mechanisms and StreamingLLM\n",
        "from sparse_attention_hub.adapters import Request\n",
        "\n",
        "\n",
        "test_context = \"\"\" \n",
        "        The concept of attention mechanisms has revolutionized natural language processing and machine learning.\n",
        "        StreamingLLM addresses efficiency challenges by implementing sparse attention patterns that combine:\n",
        "        1. Sink tokens: The first few tokens contain crucial global information\n",
        "        2. Local attention: Recent tokens are most relevant for next token prediction\n",
        "        This approach maintains performance while reducing computational costs for long sequences.\n",
        "        \"\"\"\n",
        "test_questions = [\n",
        "        \"Summarize the above in a single title with less than 10 words. Given only the title.\",\n",
        "        \"What are other attention mechanisms that are used in the field of LLMs?\"\n",
        "]\n",
        "\n",
        "request = Request(\n",
        "    context=test_context,\n",
        "    questions=test_questions,\n",
        " )\n"
      ]
    },
    {
      "cell_type": "code",
      "execution_count": null,
      "metadata": {},
      "outputs": [],
      "source": [
        "print(\"Running Streaming Attention on Question\")\n",
        "with adapter.enable_sparse_mode():\n",
        "    response=adapter.process_request(request)\n",
        "    response_text=response.responses\n",
        "    print(\"Streaming Attention Response: \", response_text)"
      ]
    }
  ],
  "metadata": {
    "kernelspec": {
      "display_name": "sparse_attention_hub",
      "language": "python",
      "name": "python3"
    },
    "language_info": {
      "codemirror_mode": {
        "name": "ipython",
        "version": 3
      },
      "file_extension": ".py",
      "mimetype": "text/x-python",
      "name": "python",
      "nbconvert_exporter": "python",
      "pygments_lexer": "ipython3",
      "version": "3.12.11"
    }
  },
  "nbformat": 4,
  "nbformat_minor": 2
}
